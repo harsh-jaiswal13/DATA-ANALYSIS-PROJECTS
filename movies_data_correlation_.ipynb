{
  "nbformat": 4,
  "nbformat_minor": 0,
  "metadata": {
    "colab": {
      "name": "movies_data_correlation .ipynb",
      "provenance": [],
      "collapsed_sections": []
    },
    "kernelspec": {
      "name": "python3",
      "display_name": "Python 3"
    },
    "language_info": {
      "name": "python"
    }
  },
  "cells": [
    {
      "cell_type": "code",
      "metadata": {
        "id": "wZhD2fn-oFbF",
        "colab": {
          "base_uri": "https://localhost:8080/",
          "height": 496
        },
        "outputId": "2571a16d-e87f-4df7-a752-1506782b7adb"
      },
      "source": [
        "import pandas as pd\n",
        "import numpy as np\n",
        "import seaborn as sns\n",
        "import matplotlib.pyplot as plt\n",
        "import matplotlib.mlab as mlab\n",
        "import matplotlib\n",
        "from google.colab import files\n",
        "import pandas as pd\n",
        "import io\n",
        "plt.style.use('ggplot')\n",
        "%matplotlib inline\n",
        "matplotlib.rcParams['figure.figsize']=(12,8)\n",
        "path=\"/content/sample_data/movies.csv\"\n",
        "df=pd.read_csv(path)\n",
        "df.head()"
      ],
      "execution_count": null,
      "outputs": [
        {
          "output_type": "execute_result",
          "data": {
            "text/html": [
              "<div>\n",
              "<style scoped>\n",
              "    .dataframe tbody tr th:only-of-type {\n",
              "        vertical-align: middle;\n",
              "    }\n",
              "\n",
              "    .dataframe tbody tr th {\n",
              "        vertical-align: top;\n",
              "    }\n",
              "\n",
              "    .dataframe thead th {\n",
              "        text-align: right;\n",
              "    }\n",
              "</style>\n",
              "<table border=\"1\" class=\"dataframe\">\n",
              "  <thead>\n",
              "    <tr style=\"text-align: right;\">\n",
              "      <th></th>\n",
              "      <th>name</th>\n",
              "      <th>rating</th>\n",
              "      <th>genre</th>\n",
              "      <th>year</th>\n",
              "      <th>released</th>\n",
              "      <th>score</th>\n",
              "      <th>votes</th>\n",
              "      <th>director</th>\n",
              "      <th>writer</th>\n",
              "      <th>star</th>\n",
              "      <th>country</th>\n",
              "      <th>budget</th>\n",
              "      <th>gross</th>\n",
              "      <th>company</th>\n",
              "      <th>runtime</th>\n",
              "    </tr>\n",
              "  </thead>\n",
              "  <tbody>\n",
              "    <tr>\n",
              "      <th>0</th>\n",
              "      <td>The Shining</td>\n",
              "      <td>R</td>\n",
              "      <td>Drama</td>\n",
              "      <td>1980</td>\n",
              "      <td>June 13, 1980 (United States)</td>\n",
              "      <td>8.4</td>\n",
              "      <td>927000.0</td>\n",
              "      <td>Stanley Kubrick</td>\n",
              "      <td>Stephen King</td>\n",
              "      <td>Jack Nicholson</td>\n",
              "      <td>United Kingdom</td>\n",
              "      <td>19000000.0</td>\n",
              "      <td>46998772.0</td>\n",
              "      <td>Warner Bros.</td>\n",
              "      <td>146.0</td>\n",
              "    </tr>\n",
              "    <tr>\n",
              "      <th>1</th>\n",
              "      <td>The Blue Lagoon</td>\n",
              "      <td>R</td>\n",
              "      <td>Adventure</td>\n",
              "      <td>1980</td>\n",
              "      <td>July 2, 1980 (United States)</td>\n",
              "      <td>5.8</td>\n",
              "      <td>65000.0</td>\n",
              "      <td>Randal Kleiser</td>\n",
              "      <td>Henry De Vere Stacpoole</td>\n",
              "      <td>Brooke Shields</td>\n",
              "      <td>United States</td>\n",
              "      <td>4500000.0</td>\n",
              "      <td>58853106.0</td>\n",
              "      <td>Columbia Pictures</td>\n",
              "      <td>104.0</td>\n",
              "    </tr>\n",
              "    <tr>\n",
              "      <th>2</th>\n",
              "      <td>Star Wars: Episode V - The Empire Strikes Back</td>\n",
              "      <td>PG</td>\n",
              "      <td>Action</td>\n",
              "      <td>1980</td>\n",
              "      <td>June 20, 1980 (United States)</td>\n",
              "      <td>8.7</td>\n",
              "      <td>1200000.0</td>\n",
              "      <td>Irvin Kershner</td>\n",
              "      <td>Leigh Brackett</td>\n",
              "      <td>Mark Hamill</td>\n",
              "      <td>United States</td>\n",
              "      <td>18000000.0</td>\n",
              "      <td>538375067.0</td>\n",
              "      <td>Lucasfilm</td>\n",
              "      <td>124.0</td>\n",
              "    </tr>\n",
              "    <tr>\n",
              "      <th>3</th>\n",
              "      <td>Airplane!</td>\n",
              "      <td>PG</td>\n",
              "      <td>Comedy</td>\n",
              "      <td>1980</td>\n",
              "      <td>July 2, 1980 (United States)</td>\n",
              "      <td>7.7</td>\n",
              "      <td>221000.0</td>\n",
              "      <td>Jim Abrahams</td>\n",
              "      <td>Jim Abrahams</td>\n",
              "      <td>Robert Hays</td>\n",
              "      <td>United States</td>\n",
              "      <td>3500000.0</td>\n",
              "      <td>83453539.0</td>\n",
              "      <td>Paramount Pictures</td>\n",
              "      <td>88.0</td>\n",
              "    </tr>\n",
              "    <tr>\n",
              "      <th>4</th>\n",
              "      <td>Caddyshack</td>\n",
              "      <td>R</td>\n",
              "      <td>Comedy</td>\n",
              "      <td>1980</td>\n",
              "      <td>July 25, 1980 (United States)</td>\n",
              "      <td>7.3</td>\n",
              "      <td>108000.0</td>\n",
              "      <td>Harold Ramis</td>\n",
              "      <td>Brian Doyle-Murray</td>\n",
              "      <td>Chevy Chase</td>\n",
              "      <td>United States</td>\n",
              "      <td>6000000.0</td>\n",
              "      <td>39846344.0</td>\n",
              "      <td>Orion Pictures</td>\n",
              "      <td>98.0</td>\n",
              "    </tr>\n",
              "  </tbody>\n",
              "</table>\n",
              "</div>"
            ],
            "text/plain": [
              "                                             name  ... runtime\n",
              "0                                     The Shining  ...   146.0\n",
              "1                                 The Blue Lagoon  ...   104.0\n",
              "2  Star Wars: Episode V - The Empire Strikes Back  ...   124.0\n",
              "3                                       Airplane!  ...    88.0\n",
              "4                                      Caddyshack  ...    98.0\n",
              "\n",
              "[5 rows x 15 columns]"
            ]
          },
          "metadata": {},
          "execution_count": 1
        }
      ]
    },
    {
      "cell_type": "code",
      "metadata": {
        "id": "ZziWObS-vXsP",
        "colab": {
          "base_uri": "https://localhost:8080/",
          "height": 374
        },
        "outputId": "75fb9820-09d4-49b3-ca23-5e9244001712"
      },
      "source": [
        "# let's look at the the data\n",
        "df.head()"
      ],
      "execution_count": null,
      "outputs": [
        {
          "output_type": "execute_result",
          "data": {
            "text/html": [
              "<div>\n",
              "<style scoped>\n",
              "    .dataframe tbody tr th:only-of-type {\n",
              "        vertical-align: middle;\n",
              "    }\n",
              "\n",
              "    .dataframe tbody tr th {\n",
              "        vertical-align: top;\n",
              "    }\n",
              "\n",
              "    .dataframe thead th {\n",
              "        text-align: right;\n",
              "    }\n",
              "</style>\n",
              "<table border=\"1\" class=\"dataframe\">\n",
              "  <thead>\n",
              "    <tr style=\"text-align: right;\">\n",
              "      <th></th>\n",
              "      <th>name</th>\n",
              "      <th>rating</th>\n",
              "      <th>genre</th>\n",
              "      <th>year</th>\n",
              "      <th>released</th>\n",
              "      <th>score</th>\n",
              "      <th>votes</th>\n",
              "      <th>director</th>\n",
              "      <th>writer</th>\n",
              "      <th>star</th>\n",
              "      <th>country</th>\n",
              "      <th>budget</th>\n",
              "      <th>gross</th>\n",
              "      <th>company</th>\n",
              "      <th>runtime</th>\n",
              "    </tr>\n",
              "  </thead>\n",
              "  <tbody>\n",
              "    <tr>\n",
              "      <th>0</th>\n",
              "      <td>The Shining</td>\n",
              "      <td>R</td>\n",
              "      <td>Drama</td>\n",
              "      <td>1980</td>\n",
              "      <td>June 13, 1980 (United States)</td>\n",
              "      <td>8.4</td>\n",
              "      <td>927000</td>\n",
              "      <td>Stanley Kubrick</td>\n",
              "      <td>Stephen King</td>\n",
              "      <td>Jack Nicholson</td>\n",
              "      <td>United Kingdom</td>\n",
              "      <td>19000000</td>\n",
              "      <td>46998772</td>\n",
              "      <td>Warner Bros.</td>\n",
              "      <td>146</td>\n",
              "    </tr>\n",
              "    <tr>\n",
              "      <th>1</th>\n",
              "      <td>The Blue Lagoon</td>\n",
              "      <td>R</td>\n",
              "      <td>Adventure</td>\n",
              "      <td>1980</td>\n",
              "      <td>July 2, 1980 (United States)</td>\n",
              "      <td>5.8</td>\n",
              "      <td>65000</td>\n",
              "      <td>Randal Kleiser</td>\n",
              "      <td>Henry De Vere Stacpoole</td>\n",
              "      <td>Brooke Shields</td>\n",
              "      <td>United States</td>\n",
              "      <td>4500000</td>\n",
              "      <td>58853106</td>\n",
              "      <td>Columbia Pictures</td>\n",
              "      <td>104</td>\n",
              "    </tr>\n",
              "    <tr>\n",
              "      <th>2</th>\n",
              "      <td>Star Wars: Episode V - The Empire Strikes Back</td>\n",
              "      <td>PG</td>\n",
              "      <td>Action</td>\n",
              "      <td>1980</td>\n",
              "      <td>June 20, 1980 (United States)</td>\n",
              "      <td>8.7</td>\n",
              "      <td>1200000</td>\n",
              "      <td>Irvin Kershner</td>\n",
              "      <td>Leigh Brackett</td>\n",
              "      <td>Mark Hamill</td>\n",
              "      <td>United States</td>\n",
              "      <td>18000000</td>\n",
              "      <td>538375067</td>\n",
              "      <td>Lucasfilm</td>\n",
              "      <td>124</td>\n",
              "    </tr>\n",
              "    <tr>\n",
              "      <th>3</th>\n",
              "      <td>Airplane!</td>\n",
              "      <td>PG</td>\n",
              "      <td>Comedy</td>\n",
              "      <td>1980</td>\n",
              "      <td>July 2, 1980 (United States)</td>\n",
              "      <td>7.7</td>\n",
              "      <td>221000</td>\n",
              "      <td>Jim Abrahams</td>\n",
              "      <td>Jim Abrahams</td>\n",
              "      <td>Robert Hays</td>\n",
              "      <td>United States</td>\n",
              "      <td>3500000</td>\n",
              "      <td>83453539</td>\n",
              "      <td>Paramount Pictures</td>\n",
              "      <td>88</td>\n",
              "    </tr>\n",
              "    <tr>\n",
              "      <th>4</th>\n",
              "      <td>Caddyshack</td>\n",
              "      <td>R</td>\n",
              "      <td>Comedy</td>\n",
              "      <td>1980</td>\n",
              "      <td>July 25, 1980 (United States)</td>\n",
              "      <td>7.3</td>\n",
              "      <td>108000</td>\n",
              "      <td>Harold Ramis</td>\n",
              "      <td>Brian Doyle-Murray</td>\n",
              "      <td>Chevy Chase</td>\n",
              "      <td>United States</td>\n",
              "      <td>6000000</td>\n",
              "      <td>39846344</td>\n",
              "      <td>Orion Pictures</td>\n",
              "      <td>98</td>\n",
              "    </tr>\n",
              "  </tbody>\n",
              "</table>\n",
              "</div>"
            ],
            "text/plain": [
              "                                             name  ... runtime\n",
              "0                                     The Shining  ...     146\n",
              "1                                 The Blue Lagoon  ...     104\n",
              "2  Star Wars: Episode V - The Empire Strikes Back  ...     124\n",
              "3                                       Airplane!  ...      88\n",
              "4                                      Caddyshack  ...      98\n",
              "\n",
              "[5 rows x 15 columns]"
            ]
          },
          "metadata": {},
          "execution_count": 10
        }
      ]
    },
    {
      "cell_type": "code",
      "metadata": {
        "id": "RsJvbEymmv8E"
      },
      "source": [
        "# let's see if there is any missing data\n",
        "for col in df.columns:\n",
        "  pct_missing=np.mean(df[col].isnull())\n",
        "  print('{} - {}%'.format(col,pct_missing))"
      ],
      "execution_count": null,
      "outputs": []
    },
    {
      "cell_type": "code",
      "metadata": {
        "id": "BrSE0ZTZrhmf"
      },
      "source": [
        "#Data types for our columns\n",
        "df.dtypes"
      ],
      "execution_count": null,
      "outputs": []
    },
    {
      "cell_type": "code",
      "metadata": {
        "id": "0_aRunDCr5qB"
      },
      "source": [
        "# change data type\n",
        "df['gross']=df['gross'].astype('int64')\n",
        "df['budget']=df['budget'].astype('int64')"
      ],
      "execution_count": null,
      "outputs": []
    },
    {
      "cell_type": "code",
      "metadata": {
        "id": "Opy4O5_A9GGA"
      },
      "source": [
        "df"
      ],
      "execution_count": null,
      "outputs": []
    },
    {
      "cell_type": "code",
      "metadata": {
        "id": "laj6lMgJ9GPr"
      },
      "source": [
        ""
      ],
      "execution_count": null,
      "outputs": []
    },
    {
      "cell_type": "code",
      "metadata": {
        "id": "INBAufP89GRH"
      },
      "source": [
        " df=df.sort_values(by=['gross'],inplace=False,ascending=False)\n",
        " "
      ],
      "execution_count": null,
      "outputs": []
    },
    {
      "cell_type": "code",
      "metadata": {
        "id": "OTDeq-Hl9GUk"
      },
      "source": [
        "pd.set_option('display.max_rows',None)"
      ],
      "execution_count": null,
      "outputs": []
    },
    {
      "cell_type": "code",
      "metadata": {
        "id": "3VdGI0AZ9GWG"
      },
      "source": [
        "#Drop any duplicates\n",
        "df.drop_duplicates()"
      ],
      "execution_count": null,
      "outputs": []
    },
    {
      "cell_type": "code",
      "metadata": {
        "id": "S49zGsfp9GZz"
      },
      "source": [
        ""
      ],
      "execution_count": null,
      "outputs": []
    },
    {
      "cell_type": "code",
      "metadata": {
        "id": "_ZJhiwXY9Gb2",
        "colab": {
          "base_uri": "https://localhost:8080/",
          "height": 299
        },
        "outputId": "ac50e1e6-07ee-412e-a1e1-490d4f46e483"
      },
      "source": [
        "# scatter plotwith budget Vs gross\n",
        "plt.scatter(x=df['budget'],y=df['gross'])\n",
        "plt.title('Budget Vs Gross Earnings')\n",
        "plt.xlabel('Gross Earning')\n",
        "plt.ylabel('Budget for film')\n",
        "plt.show()"
      ],
      "execution_count": null,
      "outputs": [
        {
          "output_type": "display_data",
          "data": {
            "image/png": "[encoded data removed]",
            "text/plain": [
              "<Figure size 432x288 with 1 Axes>"
            ]
          },
          "metadata": {
            "needs_background": "light"
          }
        }
      ]
    },
    {
      "cell_type": "code",
      "metadata": {
        "id": "KjLGp_ZD9GfQ",
        "colab": {
          "base_uri": "https://localhost:8080/",
          "height": 513
        },
        "outputId": "a1bb070b-2201-41c9-ddf2-9b710afa4b5a"
      },
      "source": [
        "df.head()"
      ],
      "execution_count": null,
      "outputs": [
        {
          "output_type": "execute_result",
          "data": {
            "text/html": [
              "<div>\n",
              "<style scoped>\n",
              "    .dataframe tbody tr th:only-of-type {\n",
              "        vertical-align: middle;\n",
              "    }\n",
              "\n",
              "    .dataframe tbody tr th {\n",
              "        vertical-align: top;\n",
              "    }\n",
              "\n",
              "    .dataframe thead th {\n",
              "        text-align: right;\n",
              "    }\n",
              "</style>\n",
              "<table border=\"1\" class=\"dataframe\">\n",
              "  <thead>\n",
              "    <tr style=\"text-align: right;\">\n",
              "      <th></th>\n",
              "      <th>name</th>\n",
              "      <th>rating</th>\n",
              "      <th>genre</th>\n",
              "      <th>year</th>\n",
              "      <th>released</th>\n",
              "      <th>score</th>\n",
              "      <th>votes</th>\n",
              "      <th>director</th>\n",
              "      <th>writer</th>\n",
              "      <th>star</th>\n",
              "      <th>country</th>\n",
              "      <th>budget</th>\n",
              "      <th>gross</th>\n",
              "      <th>company</th>\n",
              "      <th>runtime</th>\n",
              "    </tr>\n",
              "  </thead>\n",
              "  <tbody>\n",
              "    <tr>\n",
              "      <th>5445</th>\n",
              "      <td>Avatar</td>\n",
              "      <td>PG-13</td>\n",
              "      <td>Action</td>\n",
              "      <td>2009</td>\n",
              "      <td>December 18, 2009 (United States)</td>\n",
              "      <td>7.8</td>\n",
              "      <td>1100000</td>\n",
              "      <td>James Cameron</td>\n",
              "      <td>James Cameron</td>\n",
              "      <td>Sam Worthington</td>\n",
              "      <td>United States</td>\n",
              "      <td>237000000</td>\n",
              "      <td>2847246203</td>\n",
              "      <td>Twentieth Century Fox</td>\n",
              "      <td>162</td>\n",
              "    </tr>\n",
              "    <tr>\n",
              "      <th>7445</th>\n",
              "      <td>Avengers: Endgame</td>\n",
              "      <td>PG-13</td>\n",
              "      <td>Action</td>\n",
              "      <td>2019</td>\n",
              "      <td>April 26, 2019 (United States)</td>\n",
              "      <td>8.4</td>\n",
              "      <td>903000</td>\n",
              "      <td>Anthony Russo</td>\n",
              "      <td>Christopher Markus</td>\n",
              "      <td>Robert Downey Jr.</td>\n",
              "      <td>United States</td>\n",
              "      <td>356000000</td>\n",
              "      <td>2797501328</td>\n",
              "      <td>Marvel Studios</td>\n",
              "      <td>181</td>\n",
              "    </tr>\n",
              "    <tr>\n",
              "      <th>3045</th>\n",
              "      <td>Titanic</td>\n",
              "      <td>PG-13</td>\n",
              "      <td>Drama</td>\n",
              "      <td>1997</td>\n",
              "      <td>December 19, 1997 (United States)</td>\n",
              "      <td>7.8</td>\n",
              "      <td>1100000</td>\n",
              "      <td>James Cameron</td>\n",
              "      <td>James Cameron</td>\n",
              "      <td>Leonardo DiCaprio</td>\n",
              "      <td>United States</td>\n",
              "      <td>200000000</td>\n",
              "      <td>2201647264</td>\n",
              "      <td>Twentieth Century Fox</td>\n",
              "      <td>194</td>\n",
              "    </tr>\n",
              "    <tr>\n",
              "      <th>6663</th>\n",
              "      <td>Star Wars: Episode VII - The Force Awakens</td>\n",
              "      <td>PG-13</td>\n",
              "      <td>Action</td>\n",
              "      <td>2015</td>\n",
              "      <td>December 18, 2015 (United States)</td>\n",
              "      <td>7.8</td>\n",
              "      <td>876000</td>\n",
              "      <td>J.J. Abrams</td>\n",
              "      <td>Lawrence Kasdan</td>\n",
              "      <td>Daisy Ridley</td>\n",
              "      <td>United States</td>\n",
              "      <td>245000000</td>\n",
              "      <td>2069521700</td>\n",
              "      <td>Lucasfilm</td>\n",
              "      <td>138</td>\n",
              "    </tr>\n",
              "    <tr>\n",
              "      <th>7244</th>\n",
              "      <td>Avengers: Infinity War</td>\n",
              "      <td>PG-13</td>\n",
              "      <td>Action</td>\n",
              "      <td>2018</td>\n",
              "      <td>April 27, 2018 (United States)</td>\n",
              "      <td>8.4</td>\n",
              "      <td>897000</td>\n",
              "      <td>Anthony Russo</td>\n",
              "      <td>Christopher Markus</td>\n",
              "      <td>Robert Downey Jr.</td>\n",
              "      <td>United States</td>\n",
              "      <td>321000000</td>\n",
              "      <td>2048359754</td>\n",
              "      <td>Marvel Studios</td>\n",
              "      <td>149</td>\n",
              "    </tr>\n",
              "  </tbody>\n",
              "</table>\n",
              "</div>"
            ],
            "text/plain": [
              "                                            name  ... runtime\n",
              "5445                                      Avatar  ...     162\n",
              "7445                           Avengers: Endgame  ...     181\n",
              "3045                                     Titanic  ...     194\n",
              "6663  Star Wars: Episode VII - The Force Awakens  ...     138\n",
              "7244                      Avengers: Infinity War  ...     149\n",
              "\n",
              "[5 rows x 15 columns]"
            ]
          },
          "metadata": {},
          "execution_count": 12
        }
      ]
    },
    {
      "cell_type": "code",
      "metadata": {
        "id": "k_YlGTl89Ghk",
        "colab": {
          "base_uri": "https://localhost:8080/",
          "height": 310
        },
        "outputId": "41f613e8-e15b-4b70-8901-388411b93c96"
      },
      "source": [
        "#plot budget Vs gross using seaborn\n",
        "\n",
        "sns.regplot(x='budget',y='gross',data=df,scatter_kws={\"color\":\"red\"},line_kws={\"color\":\"blue\"})"
      ],
      "execution_count": null,
      "outputs": [
        {
          "output_type": "execute_result",
          "data": {
            "text/plain": [
              "<matplotlib.axes._subplots.AxesSubplot at 0x7f291bfc3a90>"
            ]
          },
          "metadata": {},
          "execution_count": 15
        },
        {
          "output_type": "display_data",
          "data": {
            "image/png": "[encoded data removed]",
            "text/plain": [
              "<Figure size 432x288 with 1 Axes>"
            ]
          },
          "metadata": {
            "needs_background": "light"
          }
        }
      ]
    },
    {
      "cell_type": "code",
      "metadata": {
        "id": "TjotqHmijOJf"
      },
      "source": [
        "# Let's start looking at corelation"
      ],
      "execution_count": null,
      "outputs": []
    },
    {
      "cell_type": "code",
      "metadata": {
        "colab": {
          "base_uri": "https://localhost:8080/",
          "height": 235
        },
        "id": "C8Y0fE6xjOLZ",
        "outputId": "9743dc5c-5c44-429e-d20e-1989a5adca4b"
      },
      "source": [
        "# pearson,kendall,spearman\n",
        "df.corr(method='spearman')"
      ],
      "execution_count": null,
      "outputs": [
        {
          "output_type": "execute_result",
          "data": {
            "text/html": [
              "<div>\n",
              "<style scoped>\n",
              "    .dataframe tbody tr th:only-of-type {\n",
              "        vertical-align: middle;\n",
              "    }\n",
              "\n",
              "    .dataframe tbody tr th {\n",
              "        vertical-align: top;\n",
              "    }\n",
              "\n",
              "    .dataframe thead th {\n",
              "        text-align: right;\n",
              "    }\n",
              "</style>\n",
              "<table border=\"1\" class=\"dataframe\">\n",
              "  <thead>\n",
              "    <tr style=\"text-align: right;\">\n",
              "      <th></th>\n",
              "      <th>year</th>\n",
              "      <th>score</th>\n",
              "      <th>votes</th>\n",
              "      <th>budget</th>\n",
              "      <th>gross</th>\n",
              "      <th>runtime</th>\n",
              "    </tr>\n",
              "  </thead>\n",
              "  <tbody>\n",
              "    <tr>\n",
              "      <th>year</th>\n",
              "      <td>1.000000</td>\n",
              "      <td>0.097757</td>\n",
              "      <td>0.468107</td>\n",
              "      <td>0.291152</td>\n",
              "      <td>0.314681</td>\n",
              "      <td>0.141805</td>\n",
              "    </tr>\n",
              "    <tr>\n",
              "      <th>score</th>\n",
              "      <td>0.097757</td>\n",
              "      <td>1.000000</td>\n",
              "      <td>0.428810</td>\n",
              "      <td>-0.007002</td>\n",
              "      <td>0.133564</td>\n",
              "      <td>0.399868</td>\n",
              "    </tr>\n",
              "    <tr>\n",
              "      <th>votes</th>\n",
              "      <td>0.468107</td>\n",
              "      <td>0.428810</td>\n",
              "      <td>1.000000</td>\n",
              "      <td>0.604693</td>\n",
              "      <td>0.752550</td>\n",
              "      <td>0.289359</td>\n",
              "    </tr>\n",
              "    <tr>\n",
              "      <th>budget</th>\n",
              "      <td>0.291152</td>\n",
              "      <td>-0.007002</td>\n",
              "      <td>0.604693</td>\n",
              "      <td>1.000000</td>\n",
              "      <td>0.716816</td>\n",
              "      <td>0.246941</td>\n",
              "    </tr>\n",
              "    <tr>\n",
              "      <th>gross</th>\n",
              "      <td>0.314681</td>\n",
              "      <td>0.133564</td>\n",
              "      <td>0.752550</td>\n",
              "      <td>0.716816</td>\n",
              "      <td>1.000000</td>\n",
              "      <td>0.257478</td>\n",
              "    </tr>\n",
              "    <tr>\n",
              "      <th>runtime</th>\n",
              "      <td>0.141805</td>\n",
              "      <td>0.399868</td>\n",
              "      <td>0.289359</td>\n",
              "      <td>0.246941</td>\n",
              "      <td>0.257478</td>\n",
              "      <td>1.000000</td>\n",
              "    </tr>\n",
              "  </tbody>\n",
              "</table>\n",
              "</div>"
            ],
            "text/plain": [
              "             year     score     votes    budget     gross   runtime\n",
              "year     1.000000  0.097757  0.468107  0.291152  0.314681  0.141805\n",
              "score    0.097757  1.000000  0.428810 -0.007002  0.133564  0.399868\n",
              "votes    0.468107  0.428810  1.000000  0.604693  0.752550  0.289359\n",
              "budget   0.291152 -0.007002  0.604693  1.000000  0.716816  0.246941\n",
              "gross    0.314681  0.133564  0.752550  0.716816  1.000000  0.257478\n",
              "runtime  0.141805  0.399868  0.289359  0.246941  0.257478  1.000000"
            ]
          },
          "metadata": {},
          "execution_count": 19
        }
      ]
    },
    {
      "cell_type": "code",
      "metadata": {
        "id": "PQWgIZonjOOg"
      },
      "source": [
        "# High corelation beween buget and gross"
      ],
      "execution_count": null,
      "outputs": []
    },
    {
      "cell_type": "code",
      "metadata": {
        "colab": {
          "base_uri": "https://localhost:8080/",
          "height": 299
        },
        "id": "-133r40tjOQx",
        "outputId": "de203173-ef5f-47f8-b3ad-423d082b2954"
      },
      "source": [
        "correlation_matrix=df.corr(method='spearman')\n",
        "sns.heatmap(correlation_matrix,annot=True)\n",
        "plt.title('corelation Matrix for Numeric Feature')\n",
        "plt.xlabel(\"Movie feature\")\n",
        "plt.ylabel(\"Movie feature\")\n",
        "plt.show()"
      ],
      "execution_count": null,
      "outputs": [
        {
          "output_type": "display_data",
          "data": {
            "image/png": "[encoded data removed]",
            "text/plain": [
              "<Figure size 432x288 with 2 Axes>"
            ]
          },
          "metadata": {
            "needs_background": "light"
          }
        }
      ]
    },
    {
      "cell_type": "code",
      "metadata": {
        "colab": {
          "base_uri": "https://localhost:8080/",
          "height": 204
        },
        "id": "ahzlNM5rjOTn",
        "outputId": "24493733-e3f9-4598-c58f-22fd950a4c71"
      },
      "source": [
        "# LOoks at Company\n",
        "df.head()"
      ],
      "execution_count": null,
      "outputs": [
        {
          "output_type": "execute_result",
          "data": {
            "text/html": [
              "<div>\n",
              "<style scoped>\n",
              "    .dataframe tbody tr th:only-of-type {\n",
              "        vertical-align: middle;\n",
              "    }\n",
              "\n",
              "    .dataframe tbody tr th {\n",
              "        vertical-align: top;\n",
              "    }\n",
              "\n",
              "    .dataframe thead th {\n",
              "        text-align: right;\n",
              "    }\n",
              "</style>\n",
              "<table border=\"1\" class=\"dataframe\">\n",
              "  <thead>\n",
              "    <tr style=\"text-align: right;\">\n",
              "      <th></th>\n",
              "      <th>name</th>\n",
              "      <th>rating</th>\n",
              "      <th>genre</th>\n",
              "      <th>year</th>\n",
              "      <th>released</th>\n",
              "      <th>score</th>\n",
              "      <th>votes</th>\n",
              "      <th>director</th>\n",
              "      <th>writer</th>\n",
              "      <th>star</th>\n",
              "      <th>country</th>\n",
              "      <th>budget</th>\n",
              "      <th>gross</th>\n",
              "      <th>company</th>\n",
              "      <th>runtime</th>\n",
              "    </tr>\n",
              "  </thead>\n",
              "  <tbody>\n",
              "    <tr>\n",
              "      <th>5445</th>\n",
              "      <td>533</td>\n",
              "      <td>5</td>\n",
              "      <td>0</td>\n",
              "      <td>2009</td>\n",
              "      <td>696</td>\n",
              "      <td>7.8</td>\n",
              "      <td>1100000</td>\n",
              "      <td>1155</td>\n",
              "      <td>1778</td>\n",
              "      <td>2335</td>\n",
              "      <td>56</td>\n",
              "      <td>237000000</td>\n",
              "      <td>2847246203</td>\n",
              "      <td>2254</td>\n",
              "      <td>162</td>\n",
              "    </tr>\n",
              "    <tr>\n",
              "      <th>7445</th>\n",
              "      <td>535</td>\n",
              "      <td>5</td>\n",
              "      <td>0</td>\n",
              "      <td>2019</td>\n",
              "      <td>183</td>\n",
              "      <td>8.4</td>\n",
              "      <td>903000</td>\n",
              "      <td>162</td>\n",
              "      <td>743</td>\n",
              "      <td>2242</td>\n",
              "      <td>56</td>\n",
              "      <td>356000000</td>\n",
              "      <td>2797501328</td>\n",
              "      <td>1606</td>\n",
              "      <td>181</td>\n",
              "    </tr>\n",
              "    <tr>\n",
              "      <th>3045</th>\n",
              "      <td>6896</td>\n",
              "      <td>5</td>\n",
              "      <td>6</td>\n",
              "      <td>1997</td>\n",
              "      <td>704</td>\n",
              "      <td>7.8</td>\n",
              "      <td>1100000</td>\n",
              "      <td>1155</td>\n",
              "      <td>1778</td>\n",
              "      <td>1595</td>\n",
              "      <td>56</td>\n",
              "      <td>200000000</td>\n",
              "      <td>2201647264</td>\n",
              "      <td>2254</td>\n",
              "      <td>194</td>\n",
              "    </tr>\n",
              "    <tr>\n",
              "      <th>6663</th>\n",
              "      <td>5144</td>\n",
              "      <td>5</td>\n",
              "      <td>0</td>\n",
              "      <td>2015</td>\n",
              "      <td>698</td>\n",
              "      <td>7.8</td>\n",
              "      <td>876000</td>\n",
              "      <td>1125</td>\n",
              "      <td>2550</td>\n",
              "      <td>524</td>\n",
              "      <td>56</td>\n",
              "      <td>245000000</td>\n",
              "      <td>2069521700</td>\n",
              "      <td>1540</td>\n",
              "      <td>138</td>\n",
              "    </tr>\n",
              "    <tr>\n",
              "      <th>7244</th>\n",
              "      <td>536</td>\n",
              "      <td>5</td>\n",
              "      <td>0</td>\n",
              "      <td>2018</td>\n",
              "      <td>192</td>\n",
              "      <td>8.4</td>\n",
              "      <td>897000</td>\n",
              "      <td>162</td>\n",
              "      <td>743</td>\n",
              "      <td>2242</td>\n",
              "      <td>56</td>\n",
              "      <td>321000000</td>\n",
              "      <td>2048359754</td>\n",
              "      <td>1606</td>\n",
              "      <td>149</td>\n",
              "    </tr>\n",
              "  </tbody>\n",
              "</table>\n",
              "</div>"
            ],
            "text/plain": [
              "      name  rating  genre  year  ...     budget       gross  company  runtime\n",
              "5445   533       5      0  2009  ...  237000000  2847246203     2254      162\n",
              "7445   535       5      0  2019  ...  356000000  2797501328     1606      181\n",
              "3045  6896       5      6  1997  ...  200000000  2201647264     2254      194\n",
              "6663  5144       5      0  2015  ...  245000000  2069521700     1540      138\n",
              "7244   536       5      0  2018  ...  321000000  2048359754     1606      149\n",
              "\n",
              "[5 rows x 15 columns]"
            ]
          },
          "metadata": {},
          "execution_count": 35
        }
      ]
    },
    {
      "cell_type": "code",
      "metadata": {
        "id": "CxOvsvXsjOVZ"
      },
      "source": [
        "df_numerised=df\n",
        "for col_name in df_numerised.columns:\n",
        "  if(df_numerised[col_name].dtype=='object'):\n",
        "    df_numerised[col_name]=df_numerised[col_name].astype('category')\n",
        "    df_numerised[col_name]=df_numerised[col_name].cat.codes"
      ],
      "execution_count": null,
      "outputs": []
    },
    {
      "cell_type": "code",
      "metadata": {
        "colab": {
          "base_uri": "https://localhost:8080/",
          "height": 419
        },
        "id": "Fqlmq8msjOYu",
        "outputId": "cd8b3165-f466-4068-8b18-b96a577b4e79"
      },
      "source": [
        "df"
      ],
      "execution_count": null,
      "outputs": [
        {
          "output_type": "execute_result",
          "data": {
            "text/html": [
              "<div>\n",
              "<style scoped>\n",
              "    .dataframe tbody tr th:only-of-type {\n",
              "        vertical-align: middle;\n",
              "    }\n",
              "\n",
              "    .dataframe tbody tr th {\n",
              "        vertical-align: top;\n",
              "    }\n",
              "\n",
              "    .dataframe thead th {\n",
              "        text-align: right;\n",
              "    }\n",
              "</style>\n",
              "<table border=\"1\" class=\"dataframe\">\n",
              "  <thead>\n",
              "    <tr style=\"text-align: right;\">\n",
              "      <th></th>\n",
              "      <th>name</th>\n",
              "      <th>rating</th>\n",
              "      <th>genre</th>\n",
              "      <th>year</th>\n",
              "      <th>released</th>\n",
              "      <th>score</th>\n",
              "      <th>votes</th>\n",
              "      <th>director</th>\n",
              "      <th>writer</th>\n",
              "      <th>star</th>\n",
              "      <th>country</th>\n",
              "      <th>budget</th>\n",
              "      <th>gross</th>\n",
              "      <th>company</th>\n",
              "      <th>runtime</th>\n",
              "    </tr>\n",
              "  </thead>\n",
              "  <tbody>\n",
              "    <tr>\n",
              "      <th>5445</th>\n",
              "      <td>533</td>\n",
              "      <td>5</td>\n",
              "      <td>0</td>\n",
              "      <td>2009</td>\n",
              "      <td>696</td>\n",
              "      <td>7.8</td>\n",
              "      <td>1100000</td>\n",
              "      <td>1155</td>\n",
              "      <td>1778</td>\n",
              "      <td>2335</td>\n",
              "      <td>56</td>\n",
              "      <td>237000000</td>\n",
              "      <td>2847246203</td>\n",
              "      <td>2254</td>\n",
              "      <td>162</td>\n",
              "    </tr>\n",
              "    <tr>\n",
              "      <th>7445</th>\n",
              "      <td>535</td>\n",
              "      <td>5</td>\n",
              "      <td>0</td>\n",
              "      <td>2019</td>\n",
              "      <td>183</td>\n",
              "      <td>8.4</td>\n",
              "      <td>903000</td>\n",
              "      <td>162</td>\n",
              "      <td>743</td>\n",
              "      <td>2242</td>\n",
              "      <td>56</td>\n",
              "      <td>356000000</td>\n",
              "      <td>2797501328</td>\n",
              "      <td>1606</td>\n",
              "      <td>181</td>\n",
              "    </tr>\n",
              "    <tr>\n",
              "      <th>3045</th>\n",
              "      <td>6896</td>\n",
              "      <td>5</td>\n",
              "      <td>6</td>\n",
              "      <td>1997</td>\n",
              "      <td>704</td>\n",
              "      <td>7.8</td>\n",
              "      <td>1100000</td>\n",
              "      <td>1155</td>\n",
              "      <td>1778</td>\n",
              "      <td>1595</td>\n",
              "      <td>56</td>\n",
              "      <td>200000000</td>\n",
              "      <td>2201647264</td>\n",
              "      <td>2254</td>\n",
              "      <td>194</td>\n",
              "    </tr>\n",
              "    <tr>\n",
              "      <th>6663</th>\n",
              "      <td>5144</td>\n",
              "      <td>5</td>\n",
              "      <td>0</td>\n",
              "      <td>2015</td>\n",
              "      <td>698</td>\n",
              "      <td>7.8</td>\n",
              "      <td>876000</td>\n",
              "      <td>1125</td>\n",
              "      <td>2550</td>\n",
              "      <td>524</td>\n",
              "      <td>56</td>\n",
              "      <td>245000000</td>\n",
              "      <td>2069521700</td>\n",
              "      <td>1540</td>\n",
              "      <td>138</td>\n",
              "    </tr>\n",
              "    <tr>\n",
              "      <th>7244</th>\n",
              "      <td>536</td>\n",
              "      <td>5</td>\n",
              "      <td>0</td>\n",
              "      <td>2018</td>\n",
              "      <td>192</td>\n",
              "      <td>8.4</td>\n",
              "      <td>897000</td>\n",
              "      <td>162</td>\n",
              "      <td>743</td>\n",
              "      <td>2242</td>\n",
              "      <td>56</td>\n",
              "      <td>321000000</td>\n",
              "      <td>2048359754</td>\n",
              "      <td>1606</td>\n",
              "      <td>149</td>\n",
              "    </tr>\n",
              "    <tr>\n",
              "      <th>...</th>\n",
              "      <td>...</td>\n",
              "      <td>...</td>\n",
              "      <td>...</td>\n",
              "      <td>...</td>\n",
              "      <td>...</td>\n",
              "      <td>...</td>\n",
              "      <td>...</td>\n",
              "      <td>...</td>\n",
              "      <td>...</td>\n",
              "      <td>...</td>\n",
              "      <td>...</td>\n",
              "      <td>...</td>\n",
              "      <td>...</td>\n",
              "      <td>...</td>\n",
              "      <td>...</td>\n",
              "    </tr>\n",
              "    <tr>\n",
              "      <th>1617</th>\n",
              "      <td>3712</td>\n",
              "      <td>6</td>\n",
              "      <td>5</td>\n",
              "      <td>1989</td>\n",
              "      <td>1277</td>\n",
              "      <td>4.5</td>\n",
              "      <td>274</td>\n",
              "      <td>117</td>\n",
              "      <td>82</td>\n",
              "      <td>2798</td>\n",
              "      <td>56</td>\n",
              "      <td>0</td>\n",
              "      <td>0</td>\n",
              "      <td>1159</td>\n",
              "      <td>92</td>\n",
              "    </tr>\n",
              "    <tr>\n",
              "      <th>1614</th>\n",
              "      <td>1745</td>\n",
              "      <td>6</td>\n",
              "      <td>10</td>\n",
              "      <td>1989</td>\n",
              "      <td>55</td>\n",
              "      <td>5.2</td>\n",
              "      <td>1300</td>\n",
              "      <td>1033</td>\n",
              "      <td>1743</td>\n",
              "      <td>166</td>\n",
              "      <td>55</td>\n",
              "      <td>0</td>\n",
              "      <td>0</td>\n",
              "      <td>146</td>\n",
              "      <td>85</td>\n",
              "    </tr>\n",
              "    <tr>\n",
              "      <th>1606</th>\n",
              "      <td>2691</td>\n",
              "      <td>6</td>\n",
              "      <td>8</td>\n",
              "      <td>1989</td>\n",
              "      <td>257</td>\n",
              "      <td>6.0</td>\n",
              "      <td>2900</td>\n",
              "      <td>2743</td>\n",
              "      <td>946</td>\n",
              "      <td>1195</td>\n",
              "      <td>6</td>\n",
              "      <td>0</td>\n",
              "      <td>0</td>\n",
              "      <td>2238</td>\n",
              "      <td>89</td>\n",
              "    </tr>\n",
              "    <tr>\n",
              "      <th>1601</th>\n",
              "      <td>3836</td>\n",
              "      <td>12</td>\n",
              "      <td>4</td>\n",
              "      <td>1989</td>\n",
              "      <td>1160</td>\n",
              "      <td>7.1</td>\n",
              "      <td>1500</td>\n",
              "      <td>1105</td>\n",
              "      <td>1696</td>\n",
              "      <td>681</td>\n",
              "      <td>18</td>\n",
              "      <td>0</td>\n",
              "      <td>0</td>\n",
              "      <td>504</td>\n",
              "      <td>104</td>\n",
              "    </tr>\n",
              "    <tr>\n",
              "      <th>7667</th>\n",
              "      <td>5394</td>\n",
              "      <td>12</td>\n",
              "      <td>10</td>\n",
              "      <td>2020</td>\n",
              "      <td>391</td>\n",
              "      <td>5.7</td>\n",
              "      <td>7</td>\n",
              "      <td>2165</td>\n",
              "      <td>3345</td>\n",
              "      <td>2464</td>\n",
              "      <td>45</td>\n",
              "      <td>0</td>\n",
              "      <td>0</td>\n",
              "      <td>1788</td>\n",
              "      <td>102</td>\n",
              "    </tr>\n",
              "  </tbody>\n",
              "</table>\n",
              "<p>7668 rows × 15 columns</p>\n",
              "</div>"
            ],
            "text/plain": [
              "      name  rating  genre  year  ...     budget       gross  company  runtime\n",
              "5445   533       5      0  2009  ...  237000000  2847246203     2254      162\n",
              "7445   535       5      0  2019  ...  356000000  2797501328     1606      181\n",
              "3045  6896       5      6  1997  ...  200000000  2201647264     2254      194\n",
              "6663  5144       5      0  2015  ...  245000000  2069521700     1540      138\n",
              "7244   536       5      0  2018  ...  321000000  2048359754     1606      149\n",
              "...    ...     ...    ...   ...  ...        ...         ...      ...      ...\n",
              "1617  3712       6      5  1989  ...          0           0     1159       92\n",
              "1614  1745       6     10  1989  ...          0           0      146       85\n",
              "1606  2691       6      8  1989  ...          0           0     2238       89\n",
              "1601  3836      12      4  1989  ...          0           0      504      104\n",
              "7667  5394      12     10  2020  ...          0           0     1788      102\n",
              "\n",
              "[7668 rows x 15 columns]"
            ]
          },
          "metadata": {},
          "execution_count": 38
        }
      ]
    },
    {
      "cell_type": "code",
      "metadata": {
        "colab": {
          "base_uri": "https://localhost:8080/",
          "height": 335
        },
        "id": "81mP7dd3jOak",
        "outputId": "f1787a85-25ef-4bb4-d2f9-0c8618364ea0"
      },
      "source": [
        "correlation_matrix=df_numerised.corr(method='spearman')\n",
        "sns.heatmap(correlation_matrix,annot=True)\n",
        "plt.title('corelation Matrix for Numeric Feature')\n",
        "plt.xlabel(\"Movie feature\")\n",
        "plt.ylabel(\"Movie feature\")\n",
        "plt.show()"
      ],
      "execution_count": null,
      "outputs": [
        {
          "output_type": "display_data",
          "data": {
            "image/png": "[encoded data removed]",
            "text/plain": [
              "<Figure size 432x288 with 2 Axes>"
            ]
          },
          "metadata": {
            "needs_background": "light"
          }
        }
      ]
    },
    {
      "cell_type": "code",
      "metadata": {
        "id": "xWswueo4jOeC"
      },
      "source": [
        "df_numerised.corr()"
      ],
      "execution_count": null,
      "outputs": []
    },
    {
      "cell_type": "code",
      "metadata": {
        "id": "oG2KR5tpjOfj",
        "colab": {
          "base_uri": "https://localhost:8080/"
        },
        "outputId": "e198460c-caa1-4321-b9f3-db46e1de5499"
      },
      "source": [
        "correlation_mat=df_numerised.corr()\n",
        "corr_pairs=correlation_mat.unstack()\n",
        "corr_pairs"
      ],
      "execution_count": null,
      "outputs": [
        {
          "output_type": "execute_result",
          "data": {
            "text/plain": [
              "rating   rating      1.000000\n",
              "         genre       0.072423\n",
              "         year        0.008779\n",
              "         released    0.016613\n",
              "         score      -0.001314\n",
              "                       ...   \n",
              "runtime  country    -0.078412\n",
              "         budget      0.320447\n",
              "         gross       0.245216\n",
              "         company     0.034402\n",
              "         runtime     1.000000\n",
              "Length: 196, dtype: float64"
            ]
          },
          "metadata": {},
          "execution_count": 12
        }
      ]
    },
    {
      "cell_type": "code",
      "metadata": {
        "colab": {
          "base_uri": "https://localhost:8080/"
        },
        "id": "OUQvFYBX3z6H",
        "outputId": "d024979a-2b33-415c-dda2-ac976a214525"
      },
      "source": [
        "sorted_pairs=corr_pairs.sort_values()\n",
        "sorted_pairs"
      ],
      "execution_count": null,
      "outputs": [
        {
          "output_type": "execute_result",
          "data": {
            "text/plain": [
              "budget    genre      -0.356564\n",
              "genre     budget     -0.356564\n",
              "gross     genre      -0.235650\n",
              "genre     gross      -0.235650\n",
              "budget    rating     -0.176002\n",
              "                        ...   \n",
              "released  released    1.000000\n",
              "year      year        1.000000\n",
              "genre     genre       1.000000\n",
              "company   company     1.000000\n",
              "runtime   runtime     1.000000\n",
              "Length: 196, dtype: float64"
            ]
          },
          "metadata": {},
          "execution_count": 15
        }
      ]
    },
    {
      "cell_type": "code",
      "metadata": {
        "colab": {
          "base_uri": "https://localhost:8080/"
        },
        "id": "9o6kwFkG3z8C",
        "outputId": "ec77db66-32f8-4f5c-f55f-0b13efa65a6b"
      },
      "source": [
        "high_corr=sorted_pairs[(sorted_pairs)>0.5]\n",
        "high_corr"
      ],
      "execution_count": null,
      "outputs": [
        {
          "output_type": "execute_result",
          "data": {
            "text/plain": [
              "gross     votes       0.630757\n",
              "votes     gross       0.630757\n",
              "budget    gross       0.740395\n",
              "gross     budget      0.740395\n",
              "rating    rating      1.000000\n",
              "gross     gross       1.000000\n",
              "budget    budget      1.000000\n",
              "country   country     1.000000\n",
              "star      star        1.000000\n",
              "writer    writer      1.000000\n",
              "director  director    1.000000\n",
              "votes     votes       1.000000\n",
              "score     score       1.000000\n",
              "released  released    1.000000\n",
              "year      year        1.000000\n",
              "genre     genre       1.000000\n",
              "company   company     1.000000\n",
              "runtime   runtime     1.000000\n",
              "dtype: float64"
            ]
          },
          "metadata": {},
          "execution_count": 16
        }
      ]
    },
    {
      "cell_type": "code",
      "metadata": {
        "id": "rZeNgOzp30AY"
      },
      "source": [
        "# Votes and budget have highest correlation  in the data"
      ],
      "execution_count": null,
      "outputs": []
    },
    {
      "cell_type": "code",
      "metadata": {
        "id": "Rql7RMV-30Bh"
      },
      "source": [
        ""
      ],
      "execution_count": null,
      "outputs": []
    },
    {
      "cell_type": "code",
      "metadata": {
        "id": "JgrupxBh30Ed"
      },
      "source": [
        ""
      ],
      "execution_count": null,
      "outputs": []
    },
    {
      "cell_type": "code",
      "metadata": {
        "id": "zNBh6F8V30Ge"
      },
      "source": [
        ""
      ],
      "execution_count": null,
      "outputs": []
    },
    {
      "cell_type": "code",
      "metadata": {
        "id": "BZYMkHtD30J-"
      },
      "source": [
        ""
      ],
      "execution_count": null,
      "outputs": []
    },
    {
      "cell_type": "code",
      "metadata": {
        "id": "maAzQsE430LY"
      },
      "source": [
        ""
      ],
      "execution_count": null,
      "outputs": []
    },
    {
      "cell_type": "code",
      "metadata": {
        "id": "GSraKAuk30PC"
      },
      "source": [
        ""
      ],
      "execution_count": null,
      "outputs": []
    }
  ]
}